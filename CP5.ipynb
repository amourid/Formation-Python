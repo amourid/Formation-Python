{
 "cells": [
  {
   "cell_type": "code",
   "execution_count": 1,
   "id": "3d3085f7",
   "metadata": {},
   "outputs": [
    {
     "name": "stdout",
     "output_type": "stream",
     "text": [
      "[[1, 2, 3], [4, 5, 6]]\n"
     ]
    }
   ],
   "source": [
    "#Execice 1\n",
    "#Write a Python program to convert an array to an ordinary list with the same items.\n",
    "#We can use the np.tolist() function.\n",
    "\n",
    "import numpy as np\n",
    "tableau= np.array([[1,2,3],[4,5,6]])\n",
    "a=tableau.tolist()\n",
    "print(a)"
   ]
  },
  {
   "cell_type": "code",
   "execution_count": 4,
   "id": "a6ac5329",
   "metadata": {},
   "outputs": [
    {
     "name": "stdout",
     "output_type": "stream",
     "text": [
      "15\n"
     ]
    }
   ],
   "source": [
    "#Execice 2\n",
    "#Write a NumPy program to compute the sum of the diagonal elements of a given array.\n",
    "#Hint: There are two possible methods to solve this problem: \n",
    "#Manually (without direct function). \n",
    "#Using the trace function\n",
    "\n",
    "import numpy as np\n",
    "matrice= np.array([[1,2,3],[4,5,6],[7,8,9]])\n",
    "a=matrice[0,0]\n",
    "b=matrice[1,1]\n",
    "c=matrice[2,2]\n",
    "print(a+b+c)\n"
   ]
  },
  {
   "cell_type": "code",
   "execution_count": 12,
   "id": "daa892c4",
   "metadata": {},
   "outputs": [
    {
     "name": "stdout",
     "output_type": "stream",
     "text": [
      "6\n",
      "7\n",
      "8\n",
      "9\n"
     ]
    }
   ],
   "source": [
    "#Execice 3\n",
    "#Given an array of your choice, get all the values higher than X:\n",
    "#If a = [[1,2],[3,5]] and x = 2 :  then 3 and 5 are higher than 2. \n",
    "\n",
    "import numpy as np\n",
    "matrice= np.array([[1,2,3],[4,5,6],[7,8,9]])\n",
    "for i in range(3):\n",
    "    for j in range(3):\n",
    "        if matrice[i,j]> 5:\n",
    "            print(matrice[i,j])\n"
   ]
  },
  {
   "cell_type": "code",
   "execution_count": 14,
   "id": "a3dd6d8c",
   "metadata": {},
   "outputs": [
    {
     "name": "stdout",
     "output_type": "stream",
     "text": [
      "[[ 8 10 12]\n",
      " [14 16 18]]\n"
     ]
    }
   ],
   "source": [
    "#Execice 4\n",
    "#Given two arrays, A & B have the same shape. \n",
    "#The task is to apply addition by hand: C is the new array.   \n",
    "\n",
    "import numpy as np\n",
    "A=np.array([[1,2,3],[4,5,6]])\n",
    "B=np.array([[7,8,9],[10,11,12]])\n",
    "C=A+B\n",
    "print(C)"
   ]
  },
  {
   "cell_type": "code",
   "execution_count": 22,
   "id": "48abf9f6",
   "metadata": {},
   "outputs": [
    {
     "name": "stdout",
     "output_type": "stream",
     "text": [
      "2\n",
      "5\n",
      "8\n"
     ]
    }
   ],
   "source": [
    "#Execice 5\n",
    "#Write a NumPy program to subtract the mean of each row of a given matrix.\n",
    "#Hint: use the mean function\n",
    "\n",
    "import numpy as np\n",
    "A=np.array([[1,2,3],[4,5,6],[7,8,9]])\n",
    "import statistics\n",
    "for i in range(3):\n",
    "    print(statistics.mean(A[i,:]))"
   ]
  },
  {
   "cell_type": "code",
   "execution_count": null,
   "id": "ddb28f35",
   "metadata": {},
   "outputs": [],
   "source": []
  }
 ],
 "metadata": {
  "kernelspec": {
   "display_name": "Python 3 (ipykernel)",
   "language": "python",
   "name": "python3"
  },
  "language_info": {
   "codemirror_mode": {
    "name": "ipython",
    "version": 3
   },
   "file_extension": ".py",
   "mimetype": "text/x-python",
   "name": "python",
   "nbconvert_exporter": "python",
   "pygments_lexer": "ipython3",
   "version": "3.9.12"
  }
 },
 "nbformat": 4,
 "nbformat_minor": 5
}
