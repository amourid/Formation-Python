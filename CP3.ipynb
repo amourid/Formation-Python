{
 "cells": [
  {
   "cell_type": "code",
   "execution_count": 10,
   "id": "9aa9dca2",
   "metadata": {},
   "outputs": [
    {
     "name": "stdout",
     "output_type": "stream",
     "text": [
      "35\n"
     ]
    }
   ],
   "source": [
    "# Question 1\n",
    "\n",
    "# Write a Python function to find the largest (max) of three numbers.\n",
    "def maximum(a,b,c):\n",
    "    if a>b and a>c:\n",
    "        print(a)\n",
    "    if b>a and b>c:\n",
    "        print(b)\n",
    "    else:\n",
    "        print(c)\n",
    "maximum(20,35,19)   \n"
   ]
  },
  {
   "cell_type": "code",
   "execution_count": 5,
   "id": "80a3512d",
   "metadata": {},
   "outputs": [
    {
     "name": "stdout",
     "output_type": "stream",
     "text": [
      "50 30\n"
     ]
    }
   ],
   "source": [
    "# Question 2\n",
    "# Write a function calculation() so it can accept two variables and calculate the addition and subtraction of them. It must return both addition and subtraction in a single return call.\n",
    "def calculation(a,b):\n",
    "    print(a+b,a-b)\n",
    "calculation(40,10)\n"
   ]
  },
  {
   "cell_type": "code",
   "execution_count": 29,
   "id": "d0463133",
   "metadata": {},
   "outputs": [
    {
     "name": "stdout",
     "output_type": "stream",
     "text": [
      "20 945\n"
     ]
    }
   ],
   "source": [
    "#execice 3\n",
    "#Write a function that sums the elements of a list of integers.\n",
    "#Write a function that multiplies the elements of an integer list.\n",
    "#Use the two functions to sum the elements whose position is an even number (0,2,4…) and multiply the rest.\n",
    "#Hint: Consider extracting two lists from a first list.\n",
    "mylist=[0,1,2,3,4,5,6,7,8,9]\n",
    "mylist1=mylist[::2]\n",
    "mylist2=mylist[1::2]\n",
    "def sum(list):\n",
    "    s =0 \n",
    "    for i in list:\n",
    "        s=s+i \n",
    "    return(s)\n",
    "def prod(liste):\n",
    "    s=1\n",
    "    for i in liste:\n",
    "        s=s*i\n",
    "    return(s)\n",
    "list=mylist1\n",
    "liste=mylist2\n",
    "print(sum(list), prod(liste))"
   ]
  },
  {
   "cell_type": "code",
   "execution_count": 31,
   "id": "2d472108",
   "metadata": {},
   "outputs": [
    {
     "name": "stdout",
     "output_type": "stream",
     "text": [
      "black-green-red-white-yellow\n"
     ]
    }
   ],
   "source": [
    "# Question 4\n",
    "#Write a Python program that accepts a hyphen-separated sequence of words as input and prints the words in a hyphen-separated sequence after sorting them alphabetically.\n",
    "#Sample items: green-red-yellow-black-white\n",
    "#Expected result: black-green-red-white-yellow\n",
    "#Hint: There's a split function to separate your input string into words and a sort function to sort.\n",
    "donne=\"green-red-yellow-black-white\"\n",
    "entree=[n for n in donne.split('-')]\n",
    "entree.sort()\n",
    "print('-'.join(entree))"
   ]
  },
  {
   "cell_type": "code",
   "execution_count": 58,
   "id": "14595400",
   "metadata": {},
   "outputs": [
    {
     "data": {
      "text/plain": [
       "[18, 22, 24]"
      ]
     },
     "execution_count": 58,
     "metadata": {},
     "output_type": "execute_result"
    }
   ],
   "source": [
    "# Question 5\n",
    "#Write a function that calculates and prints the value according to the given\n",
    "#formula: Q = square root of [(2 * C * D)/H]. Following are the fixed values of C and H:\n",
    "#C is 50, and H is 30. D is the variable whose values should be input to your program in a \n",
    "#comma-separated sequence. Example: Let us assume the following comma-separated \n",
    "#input sequence is given to the function: 100,150,180. \n",
    "#Expected result: 18,22,24 \n",
    "#Hints: If the output received is in decimal form, it should be rounded off to its nearest value.\n",
    "#For example, if the output received is 26.0, it should be printed as 26. In the case of input data \n",
    "#being supplied to the question, it should be assumed to be a console input. \n",
    "import math\n",
    "def calcul(list):\n",
    "    mylist=[]\n",
    "    for i in list:\n",
    "        k=math.sqrt((2*50*i)/30)\n",
    "        mylist.append(int(k))\n",
    "    return(mylist)\n",
    "list=[100,150,180]\n",
    "calcul(list)\n",
    "\n",
    "    "
   ]
  },
  {
   "cell_type": "code",
   "execution_count": null,
   "id": "bbfb6a24",
   "metadata": {},
   "outputs": [],
   "source": []
  },
  {
   "cell_type": "code",
   "execution_count": null,
   "id": "35f2d1aa",
   "metadata": {},
   "outputs": [],
   "source": []
  }
 ],
 "metadata": {
  "kernelspec": {
   "display_name": "Python 3 (ipykernel)",
   "language": "python",
   "name": "python3"
  },
  "language_info": {
   "codemirror_mode": {
    "name": "ipython",
    "version": 3
   },
   "file_extension": ".py",
   "mimetype": "text/x-python",
   "name": "python",
   "nbconvert_exporter": "python",
   "pygments_lexer": "ipython3",
   "version": "3.9.12"
  }
 },
 "nbformat": 4,
 "nbformat_minor": 5
}
