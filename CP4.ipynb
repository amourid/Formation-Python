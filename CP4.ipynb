{
 "cells": [
  {
   "cell_type": "code",
   "execution_count": 2,
   "id": "1bb0ccc2",
   "metadata": {},
   "outputs": [
    {
     "name": "stdout",
     "output_type": "stream",
     "text": [
      "(1, 2, 3)\n"
     ]
    }
   ],
   "source": [
    "#Execice 1\n",
    "#Write a Python class named Point3D defined by x, y, and z. Define a method that returns (x, y ,z). \n",
    "#This tells Python to represent this object in the following format: (x, y, z). \n",
    "#Then create a variable named my_point containing a new instance of Point3D \n",
    "#with x=1, y=2, and z=3 and print it.\n",
    "class Point3D:\n",
    "    \n",
    "    def __init__(self,x,y,z):\n",
    "        self.x=x\n",
    "        self.y=y\n",
    "        self.z=z\n",
    "        \n",
    "    def format(self):\n",
    "        return (self.x,self.y,self.z)\n",
    "result=Point3D(1,2,3)\n",
    "print(result.format())   "
   ]
  },
  {
   "cell_type": "code",
   "execution_count": 5,
   "id": "c2c15ce0",
   "metadata": {},
   "outputs": [
    {
     "name": "stdout",
     "output_type": "stream",
     "text": [
      "12\n",
      "14\n"
     ]
    }
   ],
   "source": [
    "#Execice 2\n",
    "#Write a Python class named Rectangle constructed by a length and width. \n",
    "#Define two methods, area and perimeter, which will compute the area and \n",
    "#the perimeter of the rectangle. Then create a variable named my_rectangle containing \n",
    "#a new instance of Rectangle with width=3 and length = 4 and compute both area and perimeter \n",
    "#( the area is expected to be 3*4=12 and perimeter 2*(3+4)=14).\n",
    "class Rectangle:\n",
    "    \n",
    "    def __init__(self,length,width):\n",
    "        self.length = length\n",
    "        self.width = width\n",
    "    \n",
    "    def area(self):\n",
    "        return self.length*self.width\n",
    "    \n",
    "    def perimeter(self):\n",
    "        return (self.length+self.width)*2\n",
    "    \n",
    "result = Rectangle(4,3)\n",
    "print(result.area())\n",
    "print(result.perimeter())"
   ]
  },
  {
   "cell_type": "code",
   "execution_count": 13,
   "id": "a9135bcf",
   "metadata": {},
   "outputs": [
    {
     "name": "stdout",
     "output_type": "stream",
     "text": [
      "not belongs\n"
     ]
    }
   ],
   "source": [
    "#Execice 3\n",
    "#Write a Python  class named Circle constructed by its center O and radius r. \n",
    "#Define two methods, area and perimeter, which will compute the area and the perimeter of the circle, \n",
    "#and is Inside() method which allows you to test whether a point A(x, y) belongs to the circle C(O, r)\n",
    "#or not.\n",
    "class Circle:\n",
    "    def __init__(self,x,y,r):\n",
    "        self.x=x\n",
    "        self.y=y\n",
    "        self.r=r\n",
    "    def Inside(self):\n",
    "        if (self.x**2)+(self.y**2)==self.r**2:\n",
    "            return (\"belongs to the circle\")\n",
    "        elif (self.x**2)+(self.y**2)!=self.r**2:\n",
    "            return(\"not belongs\")\n",
    "donnee= Circle(2,3,(13**0.5))\n",
    "print(donnee.Inside())"
   ]
  },
  {
   "cell_type": "code",
   "execution_count": 6,
   "id": "f4460908",
   "metadata": {},
   "outputs": [
    {
     "name": "stdout",
     "output_type": "stream",
     "text": [
      "('01.06.2022', 100, 0, 1100)\n"
     ]
    }
   ],
   "source": [
    "#Exercice 4\n",
    "#Suppose we want to model a bank account with support for deposit and withdraw operations. \n",
    "#Let’s create a Python class named Bank defined by its balance. Define two methods, \n",
    "#deposit and withdraw, to compute the new amount of each operation.\n",
    "class Bank:\n",
    "    def __init__(self,date,depot,retrait,solde):\n",
    "        self.date=date\n",
    "        self.depot=depot\n",
    "        self.retrait=retrait\n",
    "        self.solde=solde\n",
    "        self.solde=self.solde+self.depot-self.retrait\n",
    "    \n",
    "    def format(self):\n",
    "        return self.date,self.depot,self.retrait,self.solde\n",
    "donnee1=Bank(\"01.06.2022\",100,0,1000)\n",
    "#donnee2=Bank(\"03.06.2022\",150,50)\n",
    "#donnee3=Bank(\"07.06.2022\",1000,100)\n",
    "#donnee4=Bank(\"09.06.2022\",0,100)\n",
    "#donnee5=Bank(\"15.06.2022\",1500,300)\n",
    "print(donnee1.format())\n",
    "#print(donnee2.format())\n",
    "#print(donnee3.format())\n",
    "#print(donnee4.format())\n",
    "#print(donnee5.format())\n"
   ]
  },
  {
   "cell_type": "code",
   "execution_count": 1,
   "id": "1732ddee",
   "metadata": {},
   "outputs": [
    {
     "name": "stdout",
     "output_type": "stream",
     "text": [
      "1100\n"
     ]
    }
   ],
   "source": [
    "class Bank:\n",
    "    def __init__(self,solde):\n",
    "        self.solde=solde\n",
    "    def deposit(self,depot):\n",
    "        self.solde=self.solde+depot\n",
    "    def withdraw(self,retrait):\n",
    "        self.solde=self.solde-retrait\n",
    "    \n",
    "    def format(self):\n",
    "        return self.solde\n",
    "my_solde=Bank(1000) \n",
    "my_solde.deposit(100)\n",
    "print(my_solde.format())\n"
   ]
  },
  {
   "cell_type": "code",
   "execution_count": null,
   "id": "205f3b43",
   "metadata": {},
   "outputs": [],
   "source": []
  }
 ],
 "metadata": {
  "kernelspec": {
   "display_name": "Python 3 (ipykernel)",
   "language": "python",
   "name": "python3"
  },
  "language_info": {
   "codemirror_mode": {
    "name": "ipython",
    "version": 3
   },
   "file_extension": ".py",
   "mimetype": "text/x-python",
   "name": "python",
   "nbconvert_exporter": "python",
   "pygments_lexer": "ipython3",
   "version": "3.9.12"
  }
 },
 "nbformat": 4,
 "nbformat_minor": 5
}
