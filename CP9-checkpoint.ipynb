{
 "cells": [
  {
   "cell_type": "code",
   "execution_count": 1,
   "id": "447818d6",
   "metadata": {},
   "outputs": [
    {
     "data": {
      "text/plain": [
       "'hello'"
      ]
     },
     "execution_count": 1,
     "metadata": {},
     "output_type": "execute_result"
    }
   ],
   "source": [
    "#index error\n",
    "#mylist=[14, \"hello\", 967]\n",
    "#mylist[6]\n",
    "\n",
    "# Il n' ya que 3 éléments dans la liste et non 7\n",
    "\n",
    "mylist=[14, \"hello\", 967]\n",
    "mylist[1]"
   ]
  },
  {
   "cell_type": "code",
   "execution_count": 2,
   "id": "2ea82cc1",
   "metadata": {},
   "outputs": [],
   "source": [
    "#index error\n",
    "#import Pandas\n",
    "#import NumPy\n",
    "\n",
    "\n",
    "import pandas as pd\n",
    "import numpy as np"
   ]
  },
  {
   "cell_type": "code",
   "execution_count": 3,
   "id": "5fbac00b",
   "metadata": {},
   "outputs": [
    {
     "name": "stdout",
     "output_type": "stream",
     "text": [
      "python errors\n"
     ]
    }
   ],
   "source": [
    "#syntax error\n",
    "#Print\"python errors\"\n",
    "\n",
    "print(\"python errors\")"
   ]
  },
  {
   "cell_type": "code",
   "execution_count": 4,
   "id": "2720fe98",
   "metadata": {},
   "outputs": [
    {
     "data": {
      "text/plain": [
       "'hello'"
      ]
     },
     "execution_count": 4,
     "metadata": {},
     "output_type": "execute_result"
    }
   ],
   "source": [
    "#key error\n",
    "#mydictionnary={True:\"hello\",False:\"bye\", '3':\"python\"}\n",
    "#mydictionnary['True']\n",
    "\n",
    "mydictionnary={\"True\":\"hello\",\"False\":\"bye\", '3':\"python\"}\n",
    "mydictionnary[\"True\"]"
   ]
  },
  {
   "cell_type": "code",
   "execution_count": 5,
   "id": "e308e0ca",
   "metadata": {},
   "outputs": [
    {
     "name": "stdout",
     "output_type": "stream",
     "text": [
      "14\n",
      "15\n",
      "16\n",
      "17\n",
      "18\n",
      "19\n",
      "20\n",
      "21\n",
      "22\n",
      "23\n",
      "24\n",
      "25\n",
      "26\n",
      "27\n",
      "28\n",
      "29\n",
      "30\n",
      "31\n",
      "32\n",
      "33\n",
      "34\n",
      "35\n",
      "36\n",
      "37\n",
      "38\n",
      "39\n",
      "40\n",
      "41\n",
      "42\n",
      "43\n",
      "44\n",
      "45\n",
      "46\n",
      "47\n",
      "48\n",
      "49\n",
      "50\n",
      "51\n",
      "52\n",
      "53\n",
      "54\n",
      "55\n",
      "56\n",
      "57\n",
      "58\n",
      "59\n",
      "60\n",
      "61\n",
      "62\n",
      "63\n",
      "64\n",
      "65\n",
      "66\n",
      "67\n",
      "68\n",
      "69\n",
      "70\n",
      "71\n",
      "72\n",
      "73\n",
      "74\n",
      "75\n",
      "76\n",
      "77\n"
     ]
    }
   ],
   "source": [
    "#indentation error\n",
    "#i=14\n",
    "#while i<78:\n",
    "#print(i)\n",
    "#i+=1\n",
    "\n",
    "i=14\n",
    "while i<78:\n",
    "    print(i)\n",
    "    i+=1"
   ]
  },
  {
   "cell_type": "code",
   "execution_count": 7,
   "id": "a40b53a8",
   "metadata": {},
   "outputs": [
    {
     "data": {
      "text/plain": [
       "3"
      ]
     },
     "execution_count": 7,
     "metadata": {},
     "output_type": "execute_result"
    }
   ],
   "source": [
    "#StopIteration\n",
    "#it=iter([1,2,3])\n",
    "#next(it)\n",
    "#next(it)\n",
    "#next(it)\n",
    "#next(it)\n",
    "\n",
    "it=iter([1,2,3])\n",
    "next(it)\n",
    "next(it)\n",
    "next(it)"
   ]
  },
  {
   "cell_type": "code",
   "execution_count": 9,
   "id": "3b5b6c68",
   "metadata": {},
   "outputs": [
    {
     "data": {
      "text/plain": [
       "30"
      ]
     },
     "execution_count": 9,
     "metadata": {},
     "output_type": "execute_result"
    }
   ],
   "source": [
    "#TypeError\n",
    "#'15'+15  # Addition d'un entier avec un objet\n",
    "\n",
    "15 + 15"
   ]
  },
  {
   "cell_type": "code",
   "execution_count": 12,
   "id": "b1c3e4e3",
   "metadata": {},
   "outputs": [
    {
     "data": {
      "text/plain": [
       "3"
      ]
     },
     "execution_count": 12,
     "metadata": {},
     "output_type": "execute_result"
    }
   ],
   "source": [
    "#ValueError\n",
    "#int('python') # python n'est par un nombre\n",
    "\n",
    "int(3.5)"
   ]
  },
  {
   "cell_type": "code",
   "execution_count": 13,
   "id": "873f221d",
   "metadata": {},
   "outputs": [
    {
     "name": "stdout",
     "output_type": "stream",
     "text": [
      "python\n"
     ]
    }
   ],
   "source": [
    "#NameError\n",
    "#python\n",
    "\n",
    "print(\"python\")"
   ]
  },
  {
   "cell_type": "code",
   "execution_count": 16,
   "id": "a2d12da3",
   "metadata": {},
   "outputs": [
    {
     "name": "stdout",
     "output_type": "stream",
     "text": [
      "Enter an integer: 19\n",
      "Enter an other integer: 0\n",
      "division impossible\n"
     ]
    }
   ],
   "source": [
    "#ZeroDivisionError\n",
    "\n",
    "#x=19/0 # division par zéro\n",
    "\n",
    "def divide_two_numbers():\n",
    "    a = input(\"Enter an integer: \")\n",
    "    b = input(\"Enter an other integer: \")\n",
    "    c =(int(a)/int(b)) if int(b)!= 0 else \"division impossible\"  \n",
    "    print(c)\n",
    "divide_two_numbers()"
   ]
  }
 ],
 "metadata": {
  "kernelspec": {
   "display_name": "Python 3 (ipykernel)",
   "language": "python",
   "name": "python3"
  },
  "language_info": {
   "codemirror_mode": {
    "name": "ipython",
    "version": 3
   },
   "file_extension": ".py",
   "mimetype": "text/x-python",
   "name": "python",
   "nbconvert_exporter": "python",
   "pygments_lexer": "ipython3",
   "version": "3.9.12"
  }
 },
 "nbformat": 4,
 "nbformat_minor": 5
}
