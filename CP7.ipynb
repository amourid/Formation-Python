{
 "cells": [
  {
   "cell_type": "code",
   "execution_count": 8,
   "id": "fe01ab6c",
   "metadata": {},
   "outputs": [
    {
     "data": {
      "text/plain": [
       "'What is Python language?                                                \\nPython is a widely used high-level, general-purpose, interpreted, dynamic programming language.\\nIts design philosophy emphasizes code readability.\\nIts syntax allows programmers to express concepts in fewer lines of code than possible in languages such as C++ or Java. \\nPython supports multiple programming paradigms, including object-oriented, imperative and functional programming or procedural styles. \\nIts features a dynamic type of system and automatic memory management and has a large and comprehensive standard library.\\nThe best way we learn anything is by practice and exercise questions. \\nWe have started this section for those (beginner to intermediate) who are familiar with Python.\\nThe system and automatic memory management and has a large and comprehensive standard library.\\nThe best way we learn anything is by practice and exercise questions. \\nWe have started this section for those (beginner to intermediate) who are familiar with Python.\\n'"
      ]
     },
     "execution_count": 8,
     "metadata": {},
     "output_type": "execute_result"
    }
   ],
   "source": [
    "#1. Write a Python program to read an entire text file\n",
    "\n",
    "f = open(\"C:/Users/amour/OneDrive/Bureau/python.txt\",'r')\n",
    "f.read()\n"
   ]
  },
  {
   "cell_type": "code",
   "execution_count": 19,
   "id": "715c7886",
   "metadata": {},
   "outputs": [
    {
     "name": "stdout",
     "output_type": "stream",
     "text": [
      "What is Python language?                                                \n",
      "\n",
      "Python is a widely used high-level, general-purpose, interpreted, dynamic programming language?\n",
      "\n",
      "Its design philosophy emphasizes code readability.\n",
      "\n",
      "Its syntax allows programmers to express concepts in fewer lines of code than possible in languages such as C++ or Java. \n",
      "\n",
      "Python supports multiple programming paradigms, including object-oriented, imperative and functional programming or procedural styles. \n",
      "\n"
     ]
    }
   ],
   "source": [
    "#2. Write a Python program to read the first n lines of a file.\n",
    "\n",
    "def read_firstnlines(fname,n):\n",
    "    with open(\"C:/Users/amour/OneDrive/Bureau/python.txt\") as f:\n",
    "        for line in (f.readlines() [:n]):\n",
    "            print(line)\n",
    "\n",
    "read_firstnlines(f,5)"
   ]
  },
  {
   "cell_type": "code",
   "execution_count": 20,
   "id": "6ca18af1",
   "metadata": {},
   "outputs": [
    {
     "name": "stdout",
     "output_type": "stream",
     "text": [
      "The system and automatic memory management and has a large and comprehensive standard library.\n",
      "\n",
      "The best way we learn anything is by practice and exercise questions. \n",
      "\n",
      "We have started this section for those (beginner to intermediate) who are familiar with Python.\n",
      "\n"
     ]
    }
   ],
   "source": [
    "#3. Write a Python program to read the last n lines of a file.\n",
    "\n",
    "def read_lastnlines(fname,n):\n",
    "    with open(\"C:/Users/amour/OneDrive/Bureau/python.txt\") as f:\n",
    "        for line in (f.readlines() [-n:]):\n",
    "            print(line)\n",
    "\n",
    "read_lastnlines(f,3)"
   ]
  },
  {
   "cell_type": "code",
   "execution_count": 21,
   "id": "766aa567",
   "metadata": {},
   "outputs": [
    {
     "name": "stdout",
     "output_type": "stream",
     "text": [
      "1029\n"
     ]
    }
   ],
   "source": [
    "#4. Write a Python program that takes a text file as input and returns the number of words of a given text file.\n",
    "def count_words(filepath):\n",
    "   with open(\"C:/Users/amour/OneDrive/Bureau/python.txt\") as f:\n",
    "       data = f.read()\n",
    "       return len(data)\n",
    "print(count_words(f))"
   ]
  },
  {
   "cell_type": "code",
   "execution_count": null,
   "id": "b71695e1",
   "metadata": {},
   "outputs": [],
   "source": []
  }
 ],
 "metadata": {
  "kernelspec": {
   "display_name": "Python 3 (ipykernel)",
   "language": "python",
   "name": "python3"
  },
  "language_info": {
   "codemirror_mode": {
    "name": "ipython",
    "version": 3
   },
   "file_extension": ".py",
   "mimetype": "text/x-python",
   "name": "python",
   "nbconvert_exporter": "python",
   "pygments_lexer": "ipython3",
   "version": "3.9.12"
  }
 },
 "nbformat": 4,
 "nbformat_minor": 5
}
